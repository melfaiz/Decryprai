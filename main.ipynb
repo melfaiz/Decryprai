{
 "metadata": {
  "language_info": {
   "codemirror_mode": {
    "name": "ipython",
    "version": 3
   },
   "file_extension": ".py",
   "mimetype": "text/x-python",
   "name": "python",
   "nbconvert_exporter": "python",
   "pygments_lexer": "ipython3",
   "version": "3.8.3-final"
  },
  "orig_nbformat": 2,
  "kernelspec": {
   "name": "python3",
   "display_name": "Python 3",
   "language": "python"
  }
 },
 "nbformat": 4,
 "nbformat_minor": 2,
 "cells": [
  {
   "cell_type": "code",
   "execution_count": 1,
   "metadata": {},
   "outputs": [],
   "source": [
    "import numpy as np\n",
    "import pickle\n",
    "from scipy import spatial\n",
    "from scipy import ndimage\n",
    "\n",
    "dim = 100"
   ]
  },
  {
   "cell_type": "code",
   "execution_count": 2,
   "metadata": {},
   "outputs": [],
   "source": [
    "with open('data.p', 'rb') as fp:\n",
    "    embeddings_dict = pickle.load(fp)"
   ]
  },
  {
   "cell_type": "code",
   "execution_count": 3,
   "metadata": {},
   "outputs": [],
   "source": [
    "def get_centers(hints):\n",
    "    centers = []\n",
    "    for hints_list in hints:\n",
    "        embeddings = []\n",
    "        if hints_list == []:\n",
    "            centers.append(np.zeros(dim))\n",
    "        else :\n",
    "            for word in hints_list:\n",
    "                embeddings.append(embeddings_dict[word])\n",
    "            centers.append(np.sum(embeddings,axis=0)/len(embeddings))\n",
    "    return centers\n",
    "    \n",
    "def guess_word_1(hints,new_hint):\n",
    "    embedding = embeddings_dict[new_hint]\n",
    "    D = []\n",
    "    for word_list in hints:\n",
    "        dist = 0\n",
    "        for word in word_list :\n",
    "            dist += spatial.distance.cosine(embeddings_dict[word], embedding)\n",
    "        D.append(dist)\n",
    "    return np.argmin(D)\n",
    "\n",
    "def guess_word_2(hints_centers,new_hint):\n",
    "    embedding = embeddings_dict[new_hint]\n",
    "    D = []\n",
    "    for rep in hints_centers:\n",
    "        dist = spatial.distance.cosine(rep, embedding)\n",
    "        D.append(dist)\n",
    "    return np.argmin(D)"
   ]
  },
  {
   "cell_type": "code",
   "execution_count": 11,
   "metadata": {},
   "outputs": [],
   "source": [
    "keys = ['fruits','clothes','technology','transport']\n",
    "\n",
    "hints = [['orange','apple'],\n",
    "         ['pants'],\n",
    "         ['phone'],\n",
    "         ['car']]\n",
    "\n",
    "new_hint = 'banana'"
   ]
  },
  {
   "cell_type": "code",
   "execution_count": 12,
   "metadata": {},
   "outputs": [
    {
     "output_type": "stream",
     "name": "stdout",
     "text": [
      "New hint :  banana\nSum of errors :  clothes\nWords centers :  fruits\n"
     ]
    }
   ],
   "source": [
    "print(\"New hint : \",new_hint)\n",
    "print(\"Sum of errors : \",keys[guess_word_1(hints,new_hint)])\n",
    "print(\"Words centers : \",keys[guess_word_2(get_centers(hints),new_hint)])"
   ]
  }
 ]
}