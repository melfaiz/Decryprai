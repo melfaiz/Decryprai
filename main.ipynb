{
 "metadata": {
  "language_info": {
   "codemirror_mode": {
    "name": "ipython",
    "version": 3
   },
   "file_extension": ".py",
   "mimetype": "text/x-python",
   "name": "python",
   "nbconvert_exporter": "python",
   "pygments_lexer": "ipython3",
   "version": "3.8.3-final"
  },
  "orig_nbformat": 2,
  "kernelspec": {
   "name": "python3",
   "display_name": "Python 3",
   "language": "python"
  }
 },
 "nbformat": 4,
 "nbformat_minor": 2,
 "cells": [
  {
   "cell_type": "code",
   "execution_count": 5,
   "metadata": {},
   "outputs": [],
   "source": [
    "import numpy as np\n",
    "import pickle\n",
    "from scipy import spatial\n",
    "from scipy import ndimage\n",
    "\n",
    "dim = 300"
   ]
  },
  {
   "cell_type": "code",
   "execution_count": 6,
   "metadata": {},
   "outputs": [],
   "source": [
    "# embeddings_dict = {}\n",
    "# with open(\"glove.6B.300d.txt\", 'r',encoding=\"utf-8\") as f:\n",
    "#     for line in f:\n",
    "#         values = line.split()\n",
    "#         word = values[0]\n",
    "#         vector = np.asarray(values[1:], \"float32\")\n",
    "#         embeddings_dict[word] = vector"
   ]
  },
  {
   "cell_type": "code",
   "execution_count": 7,
   "metadata": {},
   "outputs": [],
   "source": [
    "# with open('data_300.pickle', 'wb') as handle:\n",
    "#     pickle.dump(embeddings_dict, handle, protocol=pickle.HIGHEST_PROTOCOL)"
   ]
  },
  {
   "cell_type": "code",
   "execution_count": 8,
   "metadata": {},
   "outputs": [],
   "source": [
    "with open('data_300.pickle', 'rb') as fp:\n",
    "    embeddings_dict = pickle.load(fp)"
   ]
  },
  {
   "cell_type": "code",
   "execution_count": 9,
   "metadata": {},
   "outputs": [],
   "source": [
    "def get_centers(hints):\n",
    "    centers = []\n",
    "    for hints_list in hints:\n",
    "        embeddings = []\n",
    "        if hints_list == []:\n",
    "            centers.append(np.zeros(dim))\n",
    "        else :\n",
    "            for word in hints_list:\n",
    "                embeddings.append(embeddings_dict[word])\n",
    "            centers.append(np.sum(embeddings,axis=0)/len(embeddings))\n",
    "    return centers\n",
    "    \n",
    "def guess_word_1(hints,new_hint):\n",
    "    embedding = embeddings_dict[new_hint]\n",
    "    D = []\n",
    "    for word_list in hints:\n",
    "        dist = 0\n",
    "        for word in word_list :\n",
    "            dist += spatial.distance.cosine(embeddings_dict[word], embedding)\n",
    "        D.append(dist)\n",
    "    return np.argmin(D)\n",
    "\n",
    "def guess_word_2(hints_centers,new_hint):\n",
    "    embedding = embeddings_dict[new_hint]\n",
    "    D = []\n",
    "    for rep in hints_centers:\n",
    "        dist = spatial.distance.cosine(rep, embedding)\n",
    "        D.append(dist)\n",
    "    return np.argmin(D)"
   ]
  },
  {
   "cell_type": "code",
   "execution_count": 10,
   "metadata": {},
   "outputs": [],
   "source": [
    "with open('wordlist.txt', 'r') as file:\n",
    "    content = file.read().splitlines()"
   ]
  },
  {
   "cell_type": "code",
   "execution_count": 11,
   "metadata": {},
   "outputs": [],
   "source": [
    "keys = ['fruits','clothes','technology','sports']\n",
    "\n",
    "hints = [['orange',],\n",
    "         ['pants'],\n",
    "         ['phone'],\n",
    "         ['football']]\n",
    "\n",
    "new_hint = 'gym'"
   ]
  },
  {
   "cell_type": "code",
   "execution_count": 20,
   "metadata": {},
   "outputs": [
    {
     "output_type": "stream",
     "name": "stdout",
     "text": [
      "New hint :  gym\nSum of errors :  clothes\nWords centers :  clothes\n"
     ]
    }
   ],
   "source": [
    "print(\"New hint : \",new_hint)\n",
    "print(\"Sum of errors : \",keys[guess_word_1(hints,new_hint)])\n",
    "print(\"Words centers : \",keys[guess_word_2(get_centers(hints),new_hint)])"
   ]
  },
  {
   "cell_type": "code",
   "execution_count": 29,
   "metadata": {},
   "outputs": [
    {
     "output_type": "stream",
     "name": "stdout",
     "text": [
      "['WHEELCHAIR', 'HAIR', 'INSECT', 'LEAD']\n"
     ]
    }
   ],
   "source": [
    "from random import sample\n",
    "#Generate 5 random numbers between 10 and 30\n",
    "randomlist = sample(range(len(content)), 4)\n",
    "print([content[i] for i in randomlist])"
   ]
  },
  {
   "cell_type": "code",
   "execution_count": 21,
   "metadata": {},
   "outputs": [],
   "source": [
    "def find_closest_words(word,n):\n",
    "    embedding = embeddings_dict[word]\n",
    "    return sorted(embeddings_dict.keys(), key=lambda item: spatial.distance.euclidean(embeddings_dict[item], embedding))[1:n-.,,öä*ÜP'´´ß`?==0]"
   ]
  },
  {
   "cell_type": "code",
   "execution_count": 22,
   "metadata": {},
   "outputs": [
    {
     "output_type": "execute_result",
     "data": {
      "text/plain": [
       "['sports', 'sport', 'sporting', 'basketball', 'baseball']"
      ]
     },
     "metadata": {},
     "execution_count": 22
    }
   ],
   "source": [
    "find_closest_words('sports',5)"
   ]
  },
  {
   "cell_type": "code",
   "execution_count": null,
   "metadata": {},
   "outputs": [],
   "source": [
    "find_closest_words('sports',5)"
   ]
  }
 ]
}