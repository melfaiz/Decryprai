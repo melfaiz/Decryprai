{
 "metadata": {
  "language_info": {
   "codemirror_mode": {
    "name": "ipython",
    "version": 3
   },
   "file_extension": ".py",
   "mimetype": "text/x-python",
   "name": "python",
   "nbconvert_exporter": "python",
   "pygments_lexer": "ipython3",
   "version": "3.8.3-final"
  },
  "orig_nbformat": 2,
  "kernelspec": {
   "name": "python3",
   "display_name": "Python 3",
   "language": "python"
  }
 },
 "nbformat": 4,
 "nbformat_minor": 2,
 "cells": [
  {
   "source": [
    "# Playing decrypto with AI"
   ],
   "cell_type": "markdown",
   "metadata": {}
  },
  {
   "source": [
    "## Importing librairies"
   ],
   "cell_type": "markdown",
   "metadata": {}
  },
  {
   "cell_type": "code",
   "execution_count": 51,
   "metadata": {},
   "outputs": [],
   "source": [
    "import numpy as np\n",
    "import pickle\n",
    "from scipy import spatial\n",
    "from random import sample\n",
    "\n",
    "dim = 300 #Dimension of the embeddings"
   ]
  },
  {
   "source": [
    "## The Model"
   ],
   "cell_type": "markdown",
   "metadata": {}
  },
  {
   "source": [
    "Saving pre-trained word embeddings dict to pickle format"
   ],
   "cell_type": "markdown",
   "metadata": {}
  },
  {
   "cell_type": "code",
   "execution_count": 52,
   "metadata": {},
   "outputs": [],
   "source": [
    "# embeddings_dict = {}\n",
    "# with open(\"glove.6B.300d.txt\", 'r',encoding=\"utf-8\") as f:\n",
    "#     for line in f:\n",
    "#         values = line.split()\n",
    "#         word = values[0]\n",
    "#         vector = np.asarray(values[1:], \"float32\")\n",
    "#         embeddings_dict[word] = vector\n",
    "# with open('data_300.pickle', 'wb') as handle:\n",
    "#     pickle.dump(embeddings_dict, handle, protocol=pickle.HIGHEST_PROTOCOL)"
   ]
  },
  {
   "source": [
    "Loading pre-trained word embeddings from the pickle file"
   ],
   "cell_type": "markdown",
   "metadata": {}
  },
  {
   "cell_type": "code",
   "execution_count": 53,
   "metadata": {},
   "outputs": [],
   "source": [
    "with open('data_300.pickle', 'rb') as fp:\n",
    "    embeddings_dict = pickle.load(fp)"
   ]
  },
  {
   "source": [
    "Functions"
   ],
   "cell_type": "markdown",
   "metadata": {}
  },
  {
   "cell_type": "code",
   "execution_count": 54,
   "metadata": {},
   "outputs": [],
   "source": [
    "def get_centers(hints):\n",
    "    centers = []\n",
    "    for hints_list in hints:\n",
    "        embeddings = []\n",
    "        if hints_list == []:\n",
    "            centers.append(np.zeros(dim))\n",
    "        else :\n",
    "            for word in hints_list:\n",
    "                embeddings.append(embeddings_dict[word])\n",
    "            centers.append(np.sum(embeddings,axis=0)/len(embeddings))\n",
    "    return centers\n",
    "    \n",
    "def guess_word_1(hints,new_hint):\n",
    "    embedding = embeddings_dict[new_hint]\n",
    "    D = []\n",
    "    for word_list in hints:\n",
    "        dist = 0\n",
    "        for word in word_list :\n",
    "            dist += spatial.distance.cosine(embeddings_dict[word], embedding)\n",
    "        D.append(dist)\n",
    "    return np.argmin(D)\n",
    "\n",
    "def guess_word_2(hints_centers,new_hint):\n",
    "    embedding = embeddings_dict[new_hint]\n",
    "    D = []\n",
    "    for rep in hints_centers:\n",
    "        dist = spatial.distance.cosine(rep, embedding)\n",
    "        D.append(dist)\n",
    "    return np.argmin(D)"
   ]
  },
  {
   "source": [
    "Finding the closest group of word to the new hint "
   ],
   "cell_type": "markdown",
   "metadata": {}
  },
  {
   "cell_type": "code",
   "execution_count": 55,
   "metadata": {},
   "outputs": [],
   "source": [
    "keys = ['fruits','clothes','technology','sports']\n",
    "\n",
    "hints = [['orange'],\n",
    "         ['pants'],\n",
    "         ['phone'],\n",
    "         ['football','run']]\n",
    "\n",
    "new_hint = 'golf'"
   ]
  },
  {
   "cell_type": "code",
   "execution_count": 56,
   "metadata": {},
   "outputs": [
    {
     "output_type": "stream",
     "name": "stdout",
     "text": [
      "New hint :  golf\nSum of errors :  clothes\nWords centers :  sports\n"
     ]
    }
   ],
   "source": [
    "print(\"New hint : \",new_hint)\n",
    "print(\"Sum of errors : \",keys[guess_word_1(hints,new_hint)])\n",
    "print(\"Words centers : \",keys[guess_word_2(get_centers(hints),new_hint)])"
   ]
  },
  {
   "source": [
    "## The game"
   ],
   "cell_type": "markdown",
   "metadata": {}
  },
  {
   "source": [
    "Generating four random words from the words list"
   ],
   "cell_type": "markdown",
   "metadata": {}
  },
  {
   "cell_type": "code",
   "execution_count": 86,
   "metadata": {},
   "outputs": [
    {
     "output_type": "stream",
     "name": "stdout",
     "text": [
      "['ADVICE', 'DENTIST', 'HAT', 'ENGLAND']\n"
     ]
    }
   ],
   "source": [
    "with open('wordlist.txt', 'r') as file:\n",
    "    content = file.read().splitlines()\n",
    "\n",
    "\n",
    "randomlist = sample(range(len(content)), 4)\n",
    "keys = [content[i] for i in randomlist]\n",
    "\n",
    "print(keys)"
   ]
  },
  {
   "cell_type": "code",
   "execution_count": 87,
   "metadata": {},
   "outputs": [
    {
     "output_type": "stream",
     "name": "stdout",
     "text": [
      "The code is :  [2, 3, 0]\n",
      "The keys are :  ['ADVICE', 'DENTIST', 'HAT', 'ENGLAND']\n",
      "MISS Guessed :  [3, 0, 2]\n",
      "[['good'], [], ['head'], ['europe']]\n",
      "The code is :  [0, 3, 1]\n",
      "The keys are :  ['ADVICE', 'DENTIST', 'HAT', 'ENGLAND']\n",
      "MISS Guessed :  [1, 1, 1]\n",
      "[['good', 'opinion'], ['pain'], ['head'], ['europe', 'beer']]\n",
      "The code is :  [1, 2, 3]\n",
      "The keys are :  ['ADVICE', 'DENTIST', 'HAT', 'ENGLAND']\n",
      "MISS Guessed :  [2, 2, 3]\n",
      "[['good', 'opinion'], ['pain', 'mouth'], ['head', 'hair'], ['europe', 'beer', 'uk']]\n",
      "The code is :  [3, 1, 2]\n",
      "The keys are :  ['ADVICE', 'DENTIST', 'HAT', 'ENGLAND']\n",
      "MISS Guessed :  [2, 1, 2]\n",
      "[['good', 'opinion'], ['pain', 'mouth', 'doctor'], ['head', 'hair', 'clothes'], ['europe', 'beer', 'uk', 'elizabeth']]\n",
      "The code is :  [0, 1, 3]\n",
      "The keys are :  ['ADVICE', 'DENTIST', 'HAT', 'ENGLAND']\n",
      "HIT\n"
     ]
    }
   ],
   "source": [
    "round = 0\n",
    "hints = [[],\n",
    "         [],\n",
    "         [],\n",
    "         []]\n",
    "\n",
    "while True:\n",
    "    code = sample(range(0,4), 3)\n",
    "    print(\"The code is : \",code)\n",
    "    print(\"The keys are : \",keys)\n",
    "\n",
    "    words = input(\"Enter the three words separated by a space : \").split()\n",
    "\n",
    "    while not all(word in embeddings_dict.keys() for word in words):\n",
    "        words = input(\"RE-enter the three words separated by a space : \").split()\n",
    "    if round == 0:\n",
    "        guesses = sample(range(0,4), 3)\n",
    "    else:\n",
    "        guesses = []\n",
    "        for word in words:\n",
    "            guesses.append(guess_word_2(get_centers(hints),word))\n",
    "\n",
    "    if code == guesses:\n",
    "        print(\"HIT\")\n",
    "        break\n",
    "    else:\n",
    "        print(\"MISS Guessed : \",guesses)\n",
    "\n",
    "    for i in range(3):\n",
    "        hints[code[i]].append(words[i])\n",
    "\n",
    "    print(hints)\n",
    "    \n",
    "    round += 1"
   ]
  },
  {
   "cell_type": "code",
   "execution_count": 91,
   "metadata": {},
   "outputs": [
    {
     "output_type": "stream",
     "name": "stdout",
     "text": [
      "Game finished after 4 rounds\nthe hints given for the keys ['ADVICE', 'DENTIST', 'HAT', 'ENGLAND'] are :\n[['good', 'opinion'], ['pain', 'mouth', 'doctor'], ['head', 'hair', 'clothes'], ['europe', 'beer', 'uk', 'elizabeth']]\n"
     ]
    }
   ],
   "source": [
    "print(\"Game finished after {} rounds\".format(round))\n",
    "print(\"The hints given for the keys {} are :\\n{}\".format(keys,hints))"
   ]
  }
 ]
}